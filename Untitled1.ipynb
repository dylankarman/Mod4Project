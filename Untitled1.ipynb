{
 "cells": [
  {
   "cell_type": "code",
   "execution_count": 1,
   "metadata": {},
   "outputs": [],
   "source": [
    "# Importing the necessary packages\n",
    "import pandas as pd\n",
    "\n",
    "import matplotlib.pyplot as plt\n",
    "%matplotlib inline\n",
    "\n",
    "from surprise import Dataset\n",
    "from surprise import Reader\n",
    "from surprise.model_selection import cross_validate\n",
    "from surprise.model_selection import GridSearchCV\n",
    "from surprise import KNNBasic, KNNWithMeans, KNNWithZScore\n",
    "from surprise import SVD, SVDpp, NMF\n",
    "from surprise import SlopeOne, CoClustering\n",
    "\n",
    "df = pd.read_csv('./Untitled Folder/ratings.csv')"
   ]
  },
  {
   "cell_type": "code",
   "execution_count": 2,
   "metadata": {},
   "outputs": [
    {
     "name": "stdout",
     "output_type": "stream",
     "text": [
      "Rows: 100836 ; Columns: 4 \n",
      "\n"
     ]
    },
    {
     "data": {
      "text/html": [
       "<div>\n",
       "<style scoped>\n",
       "    .dataframe tbody tr th:only-of-type {\n",
       "        vertical-align: middle;\n",
       "    }\n",
       "\n",
       "    .dataframe tbody tr th {\n",
       "        vertical-align: top;\n",
       "    }\n",
       "\n",
       "    .dataframe thead th {\n",
       "        text-align: right;\n",
       "    }\n",
       "</style>\n",
       "<table border=\"1\" class=\"dataframe\">\n",
       "  <thead>\n",
       "    <tr style=\"text-align: right;\">\n",
       "      <th></th>\n",
       "      <th>userId</th>\n",
       "      <th>movieId</th>\n",
       "      <th>rating</th>\n",
       "      <th>timestamp</th>\n",
       "    </tr>\n",
       "  </thead>\n",
       "  <tbody>\n",
       "    <tr>\n",
       "      <td>0</td>\n",
       "      <td>1</td>\n",
       "      <td>1</td>\n",
       "      <td>4.0</td>\n",
       "      <td>964982703</td>\n",
       "    </tr>\n",
       "    <tr>\n",
       "      <td>1</td>\n",
       "      <td>1</td>\n",
       "      <td>3</td>\n",
       "      <td>4.0</td>\n",
       "      <td>964981247</td>\n",
       "    </tr>\n",
       "    <tr>\n",
       "      <td>2</td>\n",
       "      <td>1</td>\n",
       "      <td>6</td>\n",
       "      <td>4.0</td>\n",
       "      <td>964982224</td>\n",
       "    </tr>\n",
       "    <tr>\n",
       "      <td>3</td>\n",
       "      <td>1</td>\n",
       "      <td>47</td>\n",
       "      <td>5.0</td>\n",
       "      <td>964983815</td>\n",
       "    </tr>\n",
       "    <tr>\n",
       "      <td>4</td>\n",
       "      <td>1</td>\n",
       "      <td>50</td>\n",
       "      <td>5.0</td>\n",
       "      <td>964982931</td>\n",
       "    </tr>\n",
       "  </tbody>\n",
       "</table>\n",
       "</div>"
      ],
      "text/plain": [
       "   userId  movieId  rating  timestamp\n",
       "0       1        1     4.0  964982703\n",
       "1       1        3     4.0  964981247\n",
       "2       1        6     4.0  964982224\n",
       "3       1       47     5.0  964983815\n",
       "4       1       50     5.0  964982931"
      ]
     },
     "execution_count": 2,
     "metadata": {},
     "output_type": "execute_result"
    }
   ],
   "source": [
    "# Load review ratings and verify data\n",
    "print('Rows:', df.shape[0], '; Columns:', df.shape[1], '\\n')\n",
    "\n",
    "df.head()"
   ]
  },
  {
   "cell_type": "code",
   "execution_count": 31,
   "metadata": {},
   "outputs": [
    {
     "name": "stdout",
     "output_type": "stream",
     "text": [
      "<class 'pandas.core.frame.DataFrame'>\n",
      "RangeIndex: 100836 entries, 0 to 100835\n",
      "Data columns (total 3 columns):\n",
      "userId     100836 non-null int64\n",
      "movieId    100836 non-null int64\n",
      "rating     100836 non-null float64\n",
      "dtypes: float64(1), int64(2)\n",
      "memory usage: 2.3 MB\n"
     ]
    }
   ],
   "source": [
    "df.info()"
   ]
  },
  {
   "cell_type": "code",
   "execution_count": 3,
   "metadata": {},
   "outputs": [],
   "source": [
    "# Drop unnecessary columns\n",
    "df = df.drop(columns='timestamp')"
   ]
  },
  {
   "cell_type": "code",
   "execution_count": 4,
   "metadata": {},
   "outputs": [
    {
     "data": {
      "text/html": [
       "<div>\n",
       "<style scoped>\n",
       "    .dataframe tbody tr th:only-of-type {\n",
       "        vertical-align: middle;\n",
       "    }\n",
       "\n",
       "    .dataframe tbody tr th {\n",
       "        vertical-align: top;\n",
       "    }\n",
       "\n",
       "    .dataframe thead th {\n",
       "        text-align: right;\n",
       "    }\n",
       "</style>\n",
       "<table border=\"1\" class=\"dataframe\">\n",
       "  <thead>\n",
       "    <tr style=\"text-align: right;\">\n",
       "      <th></th>\n",
       "      <th>userId</th>\n",
       "      <th>movieId</th>\n",
       "      <th>rating</th>\n",
       "    </tr>\n",
       "  </thead>\n",
       "  <tbody>\n",
       "    <tr>\n",
       "      <td>count</td>\n",
       "      <td>100836.000000</td>\n",
       "      <td>100836.000000</td>\n",
       "      <td>100836.000000</td>\n",
       "    </tr>\n",
       "    <tr>\n",
       "      <td>mean</td>\n",
       "      <td>326.127564</td>\n",
       "      <td>19435.295718</td>\n",
       "      <td>3.501557</td>\n",
       "    </tr>\n",
       "    <tr>\n",
       "      <td>std</td>\n",
       "      <td>182.618491</td>\n",
       "      <td>35530.987199</td>\n",
       "      <td>1.042529</td>\n",
       "    </tr>\n",
       "    <tr>\n",
       "      <td>min</td>\n",
       "      <td>1.000000</td>\n",
       "      <td>1.000000</td>\n",
       "      <td>0.500000</td>\n",
       "    </tr>\n",
       "    <tr>\n",
       "      <td>25%</td>\n",
       "      <td>177.000000</td>\n",
       "      <td>1199.000000</td>\n",
       "      <td>3.000000</td>\n",
       "    </tr>\n",
       "    <tr>\n",
       "      <td>50%</td>\n",
       "      <td>325.000000</td>\n",
       "      <td>2991.000000</td>\n",
       "      <td>3.500000</td>\n",
       "    </tr>\n",
       "    <tr>\n",
       "      <td>75%</td>\n",
       "      <td>477.000000</td>\n",
       "      <td>8122.000000</td>\n",
       "      <td>4.000000</td>\n",
       "    </tr>\n",
       "    <tr>\n",
       "      <td>max</td>\n",
       "      <td>610.000000</td>\n",
       "      <td>193609.000000</td>\n",
       "      <td>5.000000</td>\n",
       "    </tr>\n",
       "  </tbody>\n",
       "</table>\n",
       "</div>"
      ],
      "text/plain": [
       "              userId        movieId         rating\n",
       "count  100836.000000  100836.000000  100836.000000\n",
       "mean      326.127564   19435.295718       3.501557\n",
       "std       182.618491   35530.987199       1.042529\n",
       "min         1.000000       1.000000       0.500000\n",
       "25%       177.000000    1199.000000       3.000000\n",
       "50%       325.000000    2991.000000       3.500000\n",
       "75%       477.000000    8122.000000       4.000000\n",
       "max       610.000000  193609.000000       5.000000"
      ]
     },
     "execution_count": 4,
     "metadata": {},
     "output_type": "execute_result"
    }
   ],
   "source": [
    "df.describe()"
   ]
  },
  {
   "cell_type": "code",
   "execution_count": 5,
   "metadata": {},
   "outputs": [
    {
     "name": "stdout",
     "output_type": "stream",
     "text": [
      "No. of Unique Users    : 610\n",
      "No. of Unique Movies : 9724\n",
      "No. of Unique Ratings  : 10\n"
     ]
    }
   ],
   "source": [
    "# showing the number of unique items \n",
    "print('No. of Unique Users    :', df.userId.nunique())\n",
    "print('No. of Unique Movies :', df.movieId.nunique())\n",
    "print('No. of Unique Ratings  :', df.rating.nunique())"
   ]
  },
  {
   "cell_type": "code",
   "execution_count": 6,
   "metadata": {},
   "outputs": [],
   "source": [
    "# grouping the ratings column so that it can be graphed\n",
    "rts_gp = df.groupby(by=['rating']).agg({'userId': 'count'}).reset_index()\n",
    "rts_gp.columns = ['Rating', 'Count']"
   ]
  },
  {
   "cell_type": "code",
   "execution_count": 7,
   "metadata": {},
   "outputs": [
    {
     "data": {
      "image/png": "[encoded data removed]",
      "text/plain": [
       "<Figure size 432x288 with 1 Axes>"
      ]
     },
     "metadata": {
      "needs_background": "light"
     },
     "output_type": "display_data"
    }
   ],
   "source": [
    "plt.barh(rts_gp.Rating, rts_gp.Count, color='royalblue')\n",
    "plt.title('Overall Count of Ratings', fontsize=15)\n",
    "plt.xlabel('Count', fontsize=15)\n",
    "plt.ylabel('Rating', fontsize=15)\n",
    "plt.grid(ls='dotted')\n",
    "plt.show()"
   ]
  },
  {
   "cell_type": "code",
   "execution_count": 8,
   "metadata": {},
   "outputs": [],
   "source": [
    "# Set Rating Scale\n",
    "reader = Reader()\n",
    "\n",
    "# Load data with rating scale\n",
    "data = Dataset.load_from_df(df, reader)\n",
    "Data = data.build_full_trainset()"
   ]
  },
  {
   "cell_type": "markdown",
   "metadata": {},
   "source": [
    "# Cross Validation"
   ]
  },
  {
   "cell_type": "code",
   "execution_count": 9,
   "metadata": {},
   "outputs": [],
   "source": [
    "knnbasic_cv = cross_validate(KNNBasic(), data, cv=2, n_jobs=-1, verbose=False)\n",
    "knnmeans_cv = cross_validate(KNNWithMeans(), data, cv=2, n_jobs=-1, verbose=False)\n",
    "knnz_cv = cross_validate(KNNWithZScore(), data, cv=2, n_jobs=-1, verbose=False)"
   ]
  },
  {
   "cell_type": "code",
   "execution_count": 10,
   "metadata": {},
   "outputs": [],
   "source": [
    "svd_cv = cross_validate(SVD(), data, cv=2, n_jobs=-1, verbose=False)\n",
    "svdpp_cv = cross_validate(SVDpp(), data, cv=2, n_jobs=-1, verbose=False)\n",
    "nmf_cv = cross_validate(NMF(), data, cv=2, n_jobs=-1, verbose=False)"
   ]
  },
  {
   "cell_type": "code",
   "execution_count": 11,
   "metadata": {},
   "outputs": [],
   "source": [
    "slope_cv = cross_validate(SlopeOne(), data, cv=2, n_jobs=-1, verbose=False)\n",
    "coclus_cv = cross_validate(CoClustering(), data, cv=2, n_jobs=-1, verbose=False)"
   ]
  },
  {
   "cell_type": "code",
   "execution_count": 12,
   "metadata": {},
   "outputs": [
    {
     "name": "stdout",
     "output_type": "stream",
     "text": [
      "Algorithm\t RMSE\t\t MAE\n",
      "\n",
      "KNN Basic \t 0.9731 \t 0.7466\n",
      "KNN Means \t 0.9186 \t 0.7023\n",
      "KNN ZScore \t 0.9183 \t 0.6972\n",
      "\n",
      "SVD \t\t 0.8889 \t 0.6847\n",
      "SVDpp \t\t 0.8805 \t 0.6763\n",
      "NMF \t\t 0.9541 \t 0.7326\n",
      "\n",
      "SlopeOne \t 0.9265 \t 0.7096\n",
      "CoClustering \t 0.9671 \t 0.748\n",
      "\n"
     ]
    }
   ],
   "source": [
    "print('Algorithm\\t RMSE\\t\\t MAE')\n",
    "print()\n",
    "print('KNN Basic', '\\t', round(knnbasic_cv['test_rmse'].mean(), 4), '\\t', round(knnbasic_cv['test_mae'].mean(), 4))\n",
    "print('KNN Means', '\\t', round(knnmeans_cv['test_rmse'].mean(), 4), '\\t', round(knnmeans_cv['test_mae'].mean(), 4))\n",
    "print('KNN ZScore', '\\t', round(knnz_cv['test_rmse'].mean(), 4), '\\t', round(knnz_cv['test_mae'].mean(), 4))\n",
    "print()\n",
    "print('SVD', '\\t\\t', round(svd_cv['test_rmse'].mean(), 4), '\\t', round(svd_cv['test_mae'].mean(), 4))\n",
    "print('SVDpp', '\\t\\t', round(svdpp_cv['test_rmse'].mean(), 4), '\\t', round(svdpp_cv['test_mae'].mean(), 4))\n",
    "print('NMF', '\\t\\t', round(nmf_cv['test_rmse'].mean(), 4), '\\t', round(nmf_cv['test_mae'].mean(), 4))\n",
    "print()\n",
    "print('SlopeOne', '\\t', round(slope_cv['test_rmse'].mean(), 4), '\\t', round(slope_cv['test_mae'].mean(), 4))\n",
    "print('CoClustering', '\\t', round(coclus_cv['test_rmse'].mean(), 4), '\\t', round(coclus_cv['test_mae'].mean(), 4))\n",
    "print()\n",
    "\n",
    "# closer to 0 the better\n",
    "# SVDpp has performed the best for RMSE and MAE"
   ]
  },
  {
   "cell_type": "code",
   "execution_count": 13,
   "metadata": {
    "scrolled": true
   },
   "outputs": [
    {
     "data": {
      "image/png": "[encoded data removed]",
      "text/plain": [
       "<Figure size 1440x360 with 2 Axes>"
      ]
     },
     "metadata": {
      "needs_background": "light"
     },
     "output_type": "display_data"
    }
   ],
   "source": [
    "# plotting scores of the different algorithms\n",
    "x_algo = ['KNN Basic', 'KNN Means', 'KNN ZScore', 'SVD', 'SVDpp', 'NMF', 'SlopeOne', 'CoClustering']\n",
    "all_algos_cv = [knnbasic_cv, knnmeans_cv, knnz_cv, svd_cv, svdpp_cv, nmf_cv, slope_cv, coclus_cv]\n",
    "\n",
    "rmse_cv = [round(res['test_rmse'].mean(), 4) for res in all_algos_cv]\n",
    "mae_cv = [round(res['test_mae'].mean(), 4) for res in all_algos_cv]\n",
    "\n",
    "plt.figure(figsize=(20,5))\n",
    "\n",
    "plt.subplot(1, 2, 1)\n",
    "plt.title('Comparison of Algorithms on RMSE', loc='center', fontsize=15)\n",
    "plt.plot(x_algo, rmse_cv, label='RMSE', color='darkgreen', marker='o')\n",
    "plt.xlabel('Algorithms', fontsize=15)\n",
    "plt.ylabel('RMSE Value', fontsize=15)\n",
    "plt.legend()\n",
    "plt.grid(ls='dashed')\n",
    "\n",
    "plt.subplot(1, 2, 2)\n",
    "plt.title('Comparison of Algorithms on MAE', loc='center', fontsize=15)\n",
    "plt.plot(x_algo, mae_cv, label='MAE', color='navy', marker='o')\n",
    "plt.xlabel('Algorithms', fontsize=15)\n",
    "plt.ylabel('MAE Value', fontsize=15)\n",
    "plt.legend()\n",
    "plt.grid(ls='dashed')\n",
    "\n",
    "plt.show()"
   ]
  },
  {
   "cell_type": "code",
   "execution_count": 14,
   "metadata": {},
   "outputs": [],
   "source": [
    "# params = {'n_factors': [45, 50, 55],\n",
    "#           'reg_all': [.04, 0.05, .06]}\n",
    "# g_s_svdpp = RandomizedSearchCV(SVDpp, params, scoring=1, n_jobs=-1)\n",
    "# g_s_svdpp.fit(data)"
   ]
  },
  {
   "cell_type": "code",
   "execution_count": null,
   "metadata": {},
   "outputs": [],
   "source": [
    "# # Perform a gridsearch with SVDpp because this algorithm performed the best.\n",
    "\n",
    "\n",
    "# params = {'n_factors': [20, 50, 100],\n",
    "#          'reg_all': [0.02, 0.05, 0.1]}\n",
    "# g_s_svdpp = GridSearchCV(SVDpp,param_grid=params,n_jobs=-1)\n",
    "# g_s_svdpp.fit(Data)"
   ]
  },
  {
   "cell_type": "code",
   "execution_count": 19,
   "metadata": {},
   "outputs": [
    {
     "ename": "AttributeError",
     "evalue": "'SVDpp' object has no attribute 'best_score'",
     "output_type": "error",
     "traceback": [
      "\u001b[0;31m---------------------------------------------------------------------------\u001b[0m",
      "\u001b[0;31mAttributeError\u001b[0m                            Traceback (most recent call last)",
      "\u001b[0;32m<ipython-input-19-434d5279e6b8>\u001b[0m in \u001b[0;36m<module>\u001b[0;34m\u001b[0m\n\u001b[1;32m      1\u001b[0m \u001b[0;31m# showing the best scores rounded out 4 places\u001b[0m\u001b[0;34m\u001b[0m\u001b[0;34m\u001b[0m\u001b[0;34m\u001b[0m\u001b[0m\n\u001b[0;32m----> 2\u001b[0;31m \u001b[0mprint\u001b[0m\u001b[0;34m(\u001b[0m\u001b[0;34m'SVDpp - RMSE:'\u001b[0m\u001b[0;34m,\u001b[0m \u001b[0mround\u001b[0m\u001b[0;34m(\u001b[0m\u001b[0msvdpp\u001b[0m\u001b[0;34m.\u001b[0m\u001b[0mbest_score\u001b[0m\u001b[0;34m[\u001b[0m\u001b[0;34m'rmse'\u001b[0m\u001b[0;34m]\u001b[0m\u001b[0;34m,\u001b[0m \u001b[0;36m4\u001b[0m\u001b[0;34m)\u001b[0m\u001b[0;34m,\u001b[0m \u001b[0;34m'; MAE:'\u001b[0m\u001b[0;34m,\u001b[0m \u001b[0mround\u001b[0m\u001b[0;34m(\u001b[0m\u001b[0msvdpp\u001b[0m\u001b[0;34m.\u001b[0m\u001b[0mbest_score\u001b[0m\u001b[0;34m[\u001b[0m\u001b[0;34m'mae'\u001b[0m\u001b[0;34m]\u001b[0m\u001b[0;34m,\u001b[0m \u001b[0;36m4\u001b[0m\u001b[0;34m)\u001b[0m\u001b[0;34m)\u001b[0m\u001b[0;34m\u001b[0m\u001b[0;34m\u001b[0m\u001b[0m\n\u001b[0m",
      "\u001b[0;31mAttributeError\u001b[0m: 'SVDpp' object has no attribute 'best_score'"
     ]
    }
   ],
   "source": [
    "# showing the best scores rounded out 4 places\n",
    "print('SVDpp - RMSE:', round(svdpp.best_score['rmse'], 4), '; MAE:', round(svdpp.best_score['mae'], 4))"
   ]
  },
  {
   "cell_type": "code",
   "execution_count": 20,
   "metadata": {},
   "outputs": [
    {
     "ename": "AttributeError",
     "evalue": "'SVDpp' object has no attribute 'best_params'",
     "output_type": "error",
     "traceback": [
      "\u001b[0;31m---------------------------------------------------------------------------\u001b[0m",
      "\u001b[0;31mAttributeError\u001b[0m                            Traceback (most recent call last)",
      "\u001b[0;32m<ipython-input-20-5b1b8595967d>\u001b[0m in \u001b[0;36m<module>\u001b[0;34m\u001b[0m\n\u001b[1;32m      1\u001b[0m \u001b[0;31m# print out optimal parameters for SVDpp after GridSearchCV\u001b[0m\u001b[0;34m\u001b[0m\u001b[0;34m\u001b[0m\u001b[0;34m\u001b[0m\u001b[0m\n\u001b[1;32m      2\u001b[0m \u001b[0;34m\u001b[0m\u001b[0m\n\u001b[0;32m----> 3\u001b[0;31m \u001b[0mprint\u001b[0m\u001b[0;34m(\u001b[0m\u001b[0;34m'RMSE ='\u001b[0m\u001b[0;34m,\u001b[0m \u001b[0msvdpp\u001b[0m\u001b[0;34m.\u001b[0m\u001b[0mbest_params\u001b[0m\u001b[0;34m[\u001b[0m\u001b[0;34m'rmse'\u001b[0m\u001b[0;34m]\u001b[0m\u001b[0;34m)\u001b[0m\u001b[0;34m\u001b[0m\u001b[0;34m\u001b[0m\u001b[0m\n\u001b[0m\u001b[1;32m      4\u001b[0m \u001b[0mprint\u001b[0m\u001b[0;34m(\u001b[0m\u001b[0;34m'MAE ='\u001b[0m\u001b[0;34m,\u001b[0m \u001b[0msvdpp\u001b[0m\u001b[0;34m.\u001b[0m\u001b[0mbest_params\u001b[0m\u001b[0;34m[\u001b[0m\u001b[0;34m'mae'\u001b[0m\u001b[0;34m]\u001b[0m\u001b[0;34m)\u001b[0m\u001b[0;34m\u001b[0m\u001b[0;34m\u001b[0m\u001b[0m\n",
      "\u001b[0;31mAttributeError\u001b[0m: 'SVDpp' object has no attribute 'best_params'"
     ]
    }
   ],
   "source": [
    "# print out optimal parameters for SVDpp after GridSearchCV\n",
    "\n",
    "print('RMSE =', svdpp.best_params['rmse'])\n",
    "print('MAE =', svdpp.best_params['mae'])"
   ]
  },
  {
   "cell_type": "code",
   "execution_count": 17,
   "metadata": {},
   "outputs": [
    {
     "data": {
      "text/plain": [
       "<surprise.prediction_algorithms.matrix_factorization.SVDpp at 0x1115f5450>"
      ]
     },
     "execution_count": 17,
     "metadata": {},
     "output_type": "execute_result"
    }
   ],
   "source": [
    "svdpp = SVDpp(n_factors= 55, reg_all=0.04)\n",
    "svdpp.fit(Data)"
   ]
  },
  {
   "cell_type": "code",
   "execution_count": 21,
   "metadata": {},
   "outputs": [],
   "source": [
    "df_movies = pd.read_csv('./Untitled Folder/movies.csv')"
   ]
  },
  {
   "cell_type": "code",
   "execution_count": 22,
   "metadata": {},
   "outputs": [
    {
     "data": {
      "text/html": [
       "<div>\n",
       "<style scoped>\n",
       "    .dataframe tbody tr th:only-of-type {\n",
       "        vertical-align: middle;\n",
       "    }\n",
       "\n",
       "    .dataframe tbody tr th {\n",
       "        vertical-align: top;\n",
       "    }\n",
       "\n",
       "    .dataframe thead th {\n",
       "        text-align: right;\n",
       "    }\n",
       "</style>\n",
       "<table border=\"1\" class=\"dataframe\">\n",
       "  <thead>\n",
       "    <tr style=\"text-align: right;\">\n",
       "      <th></th>\n",
       "      <th>movieId</th>\n",
       "      <th>title</th>\n",
       "      <th>genres</th>\n",
       "    </tr>\n",
       "  </thead>\n",
       "  <tbody>\n",
       "    <tr>\n",
       "      <td>0</td>\n",
       "      <td>1</td>\n",
       "      <td>Toy Story (1995)</td>\n",
       "      <td>Adventure|Animation|Children|Comedy|Fantasy</td>\n",
       "    </tr>\n",
       "    <tr>\n",
       "      <td>1</td>\n",
       "      <td>2</td>\n",
       "      <td>Jumanji (1995)</td>\n",
       "      <td>Adventure|Children|Fantasy</td>\n",
       "    </tr>\n",
       "    <tr>\n",
       "      <td>2</td>\n",
       "      <td>3</td>\n",
       "      <td>Grumpier Old Men (1995)</td>\n",
       "      <td>Comedy|Romance</td>\n",
       "    </tr>\n",
       "    <tr>\n",
       "      <td>3</td>\n",
       "      <td>4</td>\n",
       "      <td>Waiting to Exhale (1995)</td>\n",
       "      <td>Comedy|Drama|Romance</td>\n",
       "    </tr>\n",
       "    <tr>\n",
       "      <td>4</td>\n",
       "      <td>5</td>\n",
       "      <td>Father of the Bride Part II (1995)</td>\n",
       "      <td>Comedy</td>\n",
       "    </tr>\n",
       "  </tbody>\n",
       "</table>\n",
       "</div>"
      ],
      "text/plain": [
       "   movieId                               title  \\\n",
       "0        1                    Toy Story (1995)   \n",
       "1        2                      Jumanji (1995)   \n",
       "2        3             Grumpier Old Men (1995)   \n",
       "3        4            Waiting to Exhale (1995)   \n",
       "4        5  Father of the Bride Part II (1995)   \n",
       "\n",
       "                                        genres  \n",
       "0  Adventure|Animation|Children|Comedy|Fantasy  \n",
       "1                   Adventure|Children|Fantasy  \n",
       "2                               Comedy|Romance  \n",
       "3                         Comedy|Drama|Romance  \n",
       "4                                       Comedy  "
      ]
     },
     "execution_count": 22,
     "metadata": {},
     "output_type": "execute_result"
    }
   ],
   "source": [
    "df_movies.head()"
   ]
  },
  {
   "cell_type": "code",
   "execution_count": 23,
   "metadata": {},
   "outputs": [
    {
     "name": "stdout",
     "output_type": "stream",
     "text": [
      "<class 'pandas.core.frame.DataFrame'>\n",
      "RangeIndex: 9742 entries, 0 to 9741\n",
      "Data columns (total 3 columns):\n",
      "movieId    9742 non-null int64\n",
      "title      9742 non-null object\n",
      "genres     9742 non-null object\n",
      "dtypes: int64(1), object(2)\n",
      "memory usage: 228.5+ KB\n"
     ]
    }
   ],
   "source": [
    "df_movies.info()"
   ]
  },
  {
   "cell_type": "code",
   "execution_count": 90,
   "metadata": {},
   "outputs": [
    {
     "data": {
      "text/html": [
       "<div>\n",
       "<style scoped>\n",
       "    .dataframe tbody tr th:only-of-type {\n",
       "        vertical-align: middle;\n",
       "    }\n",
       "\n",
       "    .dataframe tbody tr th {\n",
       "        vertical-align: top;\n",
       "    }\n",
       "\n",
       "    .dataframe thead th {\n",
       "        text-align: right;\n",
       "    }\n",
       "</style>\n",
       "<table border=\"1\" class=\"dataframe\">\n",
       "  <thead>\n",
       "    <tr style=\"text-align: right;\">\n",
       "      <th></th>\n",
       "      <th>movieId</th>\n",
       "      <th>title</th>\n",
       "      <th>genres</th>\n",
       "    </tr>\n",
       "  </thead>\n",
       "  <tbody>\n",
       "    <tr>\n",
       "      <td>0</td>\n",
       "      <td>1</td>\n",
       "      <td>Toy Story (1995)</td>\n",
       "      <td>Adventure|Animation|Children|Comedy|Fantasy</td>\n",
       "    </tr>\n",
       "    <tr>\n",
       "      <td>1</td>\n",
       "      <td>2</td>\n",
       "      <td>Jumanji (1995)</td>\n",
       "      <td>Adventure|Children|Fantasy</td>\n",
       "    </tr>\n",
       "    <tr>\n",
       "      <td>2</td>\n",
       "      <td>3</td>\n",
       "      <td>Grumpier Old Men (1995)</td>\n",
       "      <td>Comedy|Romance</td>\n",
       "    </tr>\n",
       "    <tr>\n",
       "      <td>3</td>\n",
       "      <td>4</td>\n",
       "      <td>Waiting to Exhale (1995)</td>\n",
       "      <td>Comedy|Drama|Romance</td>\n",
       "    </tr>\n",
       "    <tr>\n",
       "      <td>4</td>\n",
       "      <td>5</td>\n",
       "      <td>Father of the Bride Part II (1995)</td>\n",
       "      <td>Comedy</td>\n",
       "    </tr>\n",
       "    <tr>\n",
       "      <td>...</td>\n",
       "      <td>...</td>\n",
       "      <td>...</td>\n",
       "      <td>...</td>\n",
       "    </tr>\n",
       "    <tr>\n",
       "      <td>9737</td>\n",
       "      <td>193581</td>\n",
       "      <td>Black Butler: Book of the Atlantic (2017)</td>\n",
       "      <td>Action|Animation|Comedy|Fantasy</td>\n",
       "    </tr>\n",
       "    <tr>\n",
       "      <td>9738</td>\n",
       "      <td>193583</td>\n",
       "      <td>No Game No Life: Zero (2017)</td>\n",
       "      <td>Animation|Comedy|Fantasy</td>\n",
       "    </tr>\n",
       "    <tr>\n",
       "      <td>9739</td>\n",
       "      <td>193585</td>\n",
       "      <td>Flint (2017)</td>\n",
       "      <td>Drama</td>\n",
       "    </tr>\n",
       "    <tr>\n",
       "      <td>9740</td>\n",
       "      <td>193587</td>\n",
       "      <td>Bungo Stray Dogs: Dead Apple (2018)</td>\n",
       "      <td>Action|Animation</td>\n",
       "    </tr>\n",
       "    <tr>\n",
       "      <td>9741</td>\n",
       "      <td>193609</td>\n",
       "      <td>Andrew Dice Clay: Dice Rules (1991)</td>\n",
       "      <td>Comedy</td>\n",
       "    </tr>\n",
       "  </tbody>\n",
       "</table>\n",
       "<p>9742 rows × 3 columns</p>\n",
       "</div>"
      ],
      "text/plain": [
       "      movieId                                      title  \\\n",
       "0           1                           Toy Story (1995)   \n",
       "1           2                             Jumanji (1995)   \n",
       "2           3                    Grumpier Old Men (1995)   \n",
       "3           4                   Waiting to Exhale (1995)   \n",
       "4           5         Father of the Bride Part II (1995)   \n",
       "...       ...                                        ...   \n",
       "9737   193581  Black Butler: Book of the Atlantic (2017)   \n",
       "9738   193583               No Game No Life: Zero (2017)   \n",
       "9739   193585                               Flint (2017)   \n",
       "9740   193587        Bungo Stray Dogs: Dead Apple (2018)   \n",
       "9741   193609        Andrew Dice Clay: Dice Rules (1991)   \n",
       "\n",
       "                                           genres  \n",
       "0     Adventure|Animation|Children|Comedy|Fantasy  \n",
       "1                      Adventure|Children|Fantasy  \n",
       "2                                  Comedy|Romance  \n",
       "3                            Comedy|Drama|Romance  \n",
       "4                                          Comedy  \n",
       "...                                           ...  \n",
       "9737              Action|Animation|Comedy|Fantasy  \n",
       "9738                     Animation|Comedy|Fantasy  \n",
       "9739                                        Drama  \n",
       "9740                             Action|Animation  \n",
       "9741                                       Comedy  \n",
       "\n",
       "[9742 rows x 3 columns]"
      ]
     },
     "execution_count": 90,
     "metadata": {},
     "output_type": "execute_result"
    }
   ],
   "source": [
    "df_movies"
   ]
  },
  {
   "cell_type": "code",
   "execution_count": 91,
   "metadata": {},
   "outputs": [
    {
     "data": {
      "text/plain": [
       "Prediction(uid=2, iid=4, r_ui=None, est=2.8649804346985372, details={'was_impossible': False})"
      ]
     },
     "execution_count": 91,
     "metadata": {},
     "output_type": "execute_result"
    }
   ],
   "source": [
    "svdpp.predict(2, 4)"
   ]
  },
  {
   "cell_type": "code",
   "execution_count": 92,
   "metadata": {},
   "outputs": [],
   "source": [
    "def movie_rater(movie_df,num, genre=None):\n",
    "    userID = 1000\n",
    "    rating_list = []\n",
    "    while num > 0:\n",
    "        if genre:\n",
    "            movie = movie_df[movie_df['genres'].str.contains(genre)].sample(1)\n",
    "        else:\n",
    "            movie = movie_df.sample(1)\n",
    "        print(movie)\n",
    "        rating = input('How do you rate this movie on a scale of 1-5, press n if you have not seen :\\n')\n",
    "        if rating == 'n':\n",
    "            continue\n",
    "        else:\n",
    "            rating_one_movie = {'userId':userID,'movieId':movie['movieId'].values[0],'rating':rating}\n",
    "            rating_list.append(rating_one_movie) \n",
    "            num -= 1\n",
    "    return rating_list      \n",
    "        "
   ]
  },
  {
   "cell_type": "code",
   "execution_count": 93,
   "metadata": {},
   "outputs": [
    {
     "name": "stdout",
     "output_type": "stream",
     "text": [
      "      movieId                 title                   genres\n",
      "9484   169982  Power Rangers (2017)  Action|Adventure|Sci-Fi\n",
      "How do you rate this movie on a scale of 1-5, press n if you have not seen :\n",
      "5\n",
      "      movieId                       title genres\n",
      "8731   127114  The End of the Tour (2015)  Drama\n",
      "How do you rate this movie on a scale of 1-5, press n if you have not seen :\n",
      "5\n",
      "      movieId            title                          genres\n",
      "7586    86295  Scream 4 (2011)  Comedy|Horror|Mystery|Thriller\n",
      "How do you rate this movie on a scale of 1-5, press n if you have not seen :\n",
      "4\n",
      "      movieId                                              title  \\\n",
      "7993    96935  My Left Eye Sees Ghosts (Ngo joh aan gin diy g...   \n",
      "\n",
      "                      genres  \n",
      "7993  Comedy|Fantasy|Romance  \n",
      "How do you rate this movie on a scale of 1-5, press n if you have not seen :\n",
      "3\n",
      "      movieId                                         title  genres\n",
      "5263     8641  Anchorman: The Legend of Ron Burgundy (2004)  Comedy\n",
      "How do you rate this movie on a scale of 1-5, press n if you have not seen :\n",
      "2\n",
      "      movieId                title                        genres\n",
      "8287   106002  Ender's Game (2013)  Action|Adventure|Sci-Fi|IMAX\n",
      "How do you rate this movie on a scale of 1-5, press n if you have not seen :\n",
      "3\n",
      "      movieId                              title  genres\n",
      "1453     1976  Friday the 13th Part 3: 3D (1982)  Horror\n",
      "How do you rate this movie on a scale of 1-5, press n if you have not seen :\n",
      "4\n",
      "      movieId            title                  genres\n",
      "1064     1381  Grease 2 (1982)  Comedy|Musical|Romance\n",
      "How do you rate this movie on a scale of 1-5, press n if you have not seen :\n",
      "5\n",
      "      movieId                         title  \\\n",
      "3876     5448  Hey Arnold! The Movie (2002)   \n",
      "\n",
      "                                   genres  \n",
      "3876  Adventure|Animation|Children|Comedy  \n",
      "How do you rate this movie on a scale of 1-5, press n if you have not seen :\n",
      "4\n",
      "     movieId                                              title  \\\n",
      "660      861  Supercop (Police Story 3: Supercop) (Jing cha ...   \n",
      "\n",
      "                           genres  \n",
      "660  Action|Comedy|Crime|Thriller  \n",
      "How do you rate this movie on a scale of 1-5, press n if you have not seen :\n",
      "2\n",
      "      movieId                                  title          genres\n",
      "8747   127212  The Stanford Prison Experiment (2015)  Drama|Thriller\n",
      "How do you rate this movie on a scale of 1-5, press n if you have not seen :\n",
      "1\n",
      "      movieId                                        title         genres\n",
      "5399     9010  Love Me If You Dare (Jeux d'enfants) (2003)  Drama|Romance\n",
      "How do you rate this movie on a scale of 1-5, press n if you have not seen :\n",
      "2\n",
      "      movieId                        title                     genres\n",
      "2972     3984  Diamonds Are Forever (1971)  Action|Adventure|Thriller\n",
      "How do you rate this movie on a scale of 1-5, press n if you have not seen :\n",
      "3\n",
      "      movieId                             title         genres\n",
      "3762     5248  Smokey and the Bandit III (1983)  Action|Comedy\n",
      "How do you rate this movie on a scale of 1-5, press n if you have not seen :\n",
      "4\n",
      "      movieId                          title  genres\n",
      "9319   159849  Bo Burnham: Make Happy (2016)  Comedy\n",
      "How do you rate this movie on a scale of 1-5, press n if you have not seen :\n",
      "5\n",
      "      movieId            title  genres\n",
      "3669     5053  Blankman (1994)  Comedy\n",
      "How do you rate this movie on a scale of 1-5, press n if you have not seen :\n",
      "3\n",
      "      movieId                                           title genres\n",
      "3267     4422  Cries and Whispers (Viskningar och rop) (1972)  Drama\n",
      "How do you rate this movie on a scale of 1-5, press n if you have not seen :\n",
      "4\n",
      "     movieId                    title          genres\n",
      "532      627  Last Supper, The (1995)  Drama|Thriller\n",
      "How do you rate this movie on a scale of 1-5, press n if you have not seen :\n",
      "5\n",
      "      movieId                   title                 genres\n",
      "7817    92643  Monsieur Lazhar (2011)  Children|Comedy|Drama\n",
      "How do you rate this movie on a scale of 1-5, press n if you have not seen :\n",
      "3\n",
      "      movieId                             title         genres\n",
      "8536   115122  What We Do in the Shadows (2014)  Comedy|Horror\n",
      "How do you rate this movie on a scale of 1-5, press n if you have not seen :\n",
      "4\n"
     ]
    }
   ],
   "source": [
    "# rate 20 movies that you have seen. The more movies that you rate, the more accurate the results will be.\n",
    "user_rating = movie_rater(df_movies, 20)"
   ]
  },
  {
   "cell_type": "code",
   "execution_count": 94,
   "metadata": {},
   "outputs": [
    {
     "data": {
      "text/plain": [
       "[{'userId': 1000, 'movieId': 169982, 'rating': '5'},\n",
       " {'userId': 1000, 'movieId': 127114, 'rating': '5'},\n",
       " {'userId': 1000, 'movieId': 86295, 'rating': '4'},\n",
       " {'userId': 1000, 'movieId': 96935, 'rating': '3'},\n",
       " {'userId': 1000, 'movieId': 8641, 'rating': '2'},\n",
       " {'userId': 1000, 'movieId': 106002, 'rating': '3'},\n",
       " {'userId': 1000, 'movieId': 1976, 'rating': '4'},\n",
       " {'userId': 1000, 'movieId': 1381, 'rating': '5'},\n",
       " {'userId': 1000, 'movieId': 5448, 'rating': '4'},\n",
       " {'userId': 1000, 'movieId': 861, 'rating': '2'},\n",
       " {'userId': 1000, 'movieId': 127212, 'rating': '1'},\n",
       " {'userId': 1000, 'movieId': 9010, 'rating': '2'},\n",
       " {'userId': 1000, 'movieId': 3984, 'rating': '3'},\n",
       " {'userId': 1000, 'movieId': 5248, 'rating': '4'},\n",
       " {'userId': 1000, 'movieId': 159849, 'rating': '5'},\n",
       " {'userId': 1000, 'movieId': 5053, 'rating': '3'},\n",
       " {'userId': 1000, 'movieId': 4422, 'rating': '4'},\n",
       " {'userId': 1000, 'movieId': 627, 'rating': '5'},\n",
       " {'userId': 1000, 'movieId': 92643, 'rating': '3'},\n",
       " {'userId': 1000, 'movieId': 115122, 'rating': '4'}]"
      ]
     },
     "execution_count": 94,
     "metadata": {},
     "output_type": "execute_result"
    }
   ],
   "source": [
    "# here are your ratings\n",
    "user_rating"
   ]
  },
  {
   "cell_type": "code",
   "execution_count": 95,
   "metadata": {},
   "outputs": [],
   "source": [
    "# add the new ratings to the original ratings DataFrame\n",
    "new_ratings_df = df.append(user_rating, ignore_index=True)\n",
    "new_data = Dataset.load_from_df(new_ratings_df, reader)"
   ]
  },
  {
   "cell_type": "code",
   "execution_count": 86,
   "metadata": {},
   "outputs": [],
   "source": [
    "# new_ratings_df = new_ratings_df[new_ratings_df.rating != '']"
   ]
  },
  {
   "cell_type": "code",
   "execution_count": 96,
   "metadata": {},
   "outputs": [
    {
     "data": {
      "text/html": [
       "<div>\n",
       "<style scoped>\n",
       "    .dataframe tbody tr th:only-of-type {\n",
       "        vertical-align: middle;\n",
       "    }\n",
       "\n",
       "    .dataframe tbody tr th {\n",
       "        vertical-align: top;\n",
       "    }\n",
       "\n",
       "    .dataframe thead th {\n",
       "        text-align: right;\n",
       "    }\n",
       "</style>\n",
       "<table border=\"1\" class=\"dataframe\">\n",
       "  <thead>\n",
       "    <tr style=\"text-align: right;\">\n",
       "      <th></th>\n",
       "      <th>userId</th>\n",
       "      <th>movieId</th>\n",
       "      <th>rating</th>\n",
       "    </tr>\n",
       "  </thead>\n",
       "  <tbody>\n",
       "    <tr>\n",
       "      <td>0</td>\n",
       "      <td>1</td>\n",
       "      <td>1</td>\n",
       "      <td>4</td>\n",
       "    </tr>\n",
       "    <tr>\n",
       "      <td>1</td>\n",
       "      <td>1</td>\n",
       "      <td>3</td>\n",
       "      <td>4</td>\n",
       "    </tr>\n",
       "    <tr>\n",
       "      <td>2</td>\n",
       "      <td>1</td>\n",
       "      <td>6</td>\n",
       "      <td>4</td>\n",
       "    </tr>\n",
       "    <tr>\n",
       "      <td>3</td>\n",
       "      <td>1</td>\n",
       "      <td>47</td>\n",
       "      <td>5</td>\n",
       "    </tr>\n",
       "    <tr>\n",
       "      <td>4</td>\n",
       "      <td>1</td>\n",
       "      <td>50</td>\n",
       "      <td>5</td>\n",
       "    </tr>\n",
       "    <tr>\n",
       "      <td>...</td>\n",
       "      <td>...</td>\n",
       "      <td>...</td>\n",
       "      <td>...</td>\n",
       "    </tr>\n",
       "    <tr>\n",
       "      <td>100851</td>\n",
       "      <td>1000</td>\n",
       "      <td>5053</td>\n",
       "      <td>3</td>\n",
       "    </tr>\n",
       "    <tr>\n",
       "      <td>100852</td>\n",
       "      <td>1000</td>\n",
       "      <td>4422</td>\n",
       "      <td>4</td>\n",
       "    </tr>\n",
       "    <tr>\n",
       "      <td>100853</td>\n",
       "      <td>1000</td>\n",
       "      <td>627</td>\n",
       "      <td>5</td>\n",
       "    </tr>\n",
       "    <tr>\n",
       "      <td>100854</td>\n",
       "      <td>1000</td>\n",
       "      <td>92643</td>\n",
       "      <td>3</td>\n",
       "    </tr>\n",
       "    <tr>\n",
       "      <td>100855</td>\n",
       "      <td>1000</td>\n",
       "      <td>115122</td>\n",
       "      <td>4</td>\n",
       "    </tr>\n",
       "  </tbody>\n",
       "</table>\n",
       "<p>100856 rows × 3 columns</p>\n",
       "</div>"
      ],
      "text/plain": [
       "        userId  movieId rating\n",
       "0            1        1      4\n",
       "1            1        3      4\n",
       "2            1        6      4\n",
       "3            1       47      5\n",
       "4            1       50      5\n",
       "...        ...      ...    ...\n",
       "100851    1000     5053      3\n",
       "100852    1000     4422      4\n",
       "100853    1000      627      5\n",
       "100854    1000    92643      3\n",
       "100855    1000   115122      4\n",
       "\n",
       "[100856 rows x 3 columns]"
      ]
     },
     "execution_count": 96,
     "metadata": {},
     "output_type": "execute_result"
    }
   ],
   "source": [
    "new_ratings_df"
   ]
  },
  {
   "cell_type": "code",
   "execution_count": 78,
   "metadata": {},
   "outputs": [],
   "source": [
    "# new_ratings_df['rating'] = new_ratings_df['rating'].astype('int')"
   ]
  },
  {
   "cell_type": "code",
   "execution_count": 97,
   "metadata": {},
   "outputs": [
    {
     "data": {
      "text/plain": [
       "dtype('O')"
      ]
     },
     "execution_count": 97,
     "metadata": {},
     "output_type": "execute_result"
    }
   ],
   "source": [
    "new_ratings_df['rating'].dtypes"
   ]
  },
  {
   "cell_type": "code",
   "execution_count": 98,
   "metadata": {},
   "outputs": [
    {
     "name": "stdout",
     "output_type": "stream",
     "text": [
      "<class 'pandas.core.frame.DataFrame'>\n",
      "RangeIndex: 100856 entries, 0 to 100855\n",
      "Data columns (total 3 columns):\n",
      "userId     100856 non-null int64\n",
      "movieId    100856 non-null int64\n",
      "rating     100856 non-null object\n",
      "dtypes: int64(2), object(1)\n",
      "memory usage: 2.3+ MB\n"
     ]
    }
   ],
   "source": [
    "new_ratings_df.info()"
   ]
  },
  {
   "cell_type": "code",
   "execution_count": 99,
   "metadata": {},
   "outputs": [],
   "source": [
    "# new_ratings_df[new_ratings_df.user_rating == '']"
   ]
  },
  {
   "cell_type": "code",
   "execution_count": null,
   "metadata": {},
   "outputs": [],
   "source": [
    "# train a model using the new combined DataFrame\n",
    "svd_ = SVDpp(n_factors= 55, reg_all=0.04)\n",
    "svd_.fit(new_data.build_full_trainset())"
   ]
  },
  {
   "cell_type": "code",
   "execution_count": null,
   "metadata": {},
   "outputs": [],
   "source": [
    "# make predictions for the user\n",
    "list_of_movies = []\n",
    "for m_id in new_df['movieId'].unique():\n",
    "    list_of_movies.append( (m_id,svd_.predict(1000,m_id)[3]))"
   ]
  },
  {
   "cell_type": "code",
   "execution_count": null,
   "metadata": {},
   "outputs": [],
   "source": [
    "# order the predictions from highest to lowest rated\n",
    "ranked_movies = sorted(list_of_movies, key=lambda x:x[1], reverse=True)"
   ]
  },
  {
   "cell_type": "code",
   "execution_count": null,
   "metadata": {},
   "outputs": [],
   "source": [
    "# print(len(ranked_movies)\n",
    "ranked_movies"
   ]
  },
  {
   "cell_type": "code",
   "execution_count": null,
   "metadata": {},
   "outputs": [],
   "source": [
    "# return the top n recommendations using the \n",
    "def recommended_movies(user_ratings,movie_title_df,n):\n",
    "        for idx, rec in enumerate(user_ratings):\n",
    "            title = movie_title_df.loc[movie_title_df['movieId'] == int(rec[0])]['title']\n",
    "            print('Recommendation # ', idx+1, ': ', title, '\\n')\n",
    "            n-= 1\n",
    "            if n == 0:\n",
    "                break\n",
    "            \n",
    "recommended_movies(ranked_movies,df_movies,10)"
   ]
  },
  {
   "cell_type": "code",
   "execution_count": null,
   "metadata": {},
   "outputs": [],
   "source": []
  }
 ],
 "metadata": {
  "kernelspec": {
   "display_name": "Python 3",
   "language": "python",
   "name": "python3"
  },
  "language_info": {
   "codemirror_mode": {
    "name": "ipython",
    "version": 3
   },
   "file_extension": ".py",
   "mimetype": "text/x-python",
   "name": "python",
   "nbconvert_exporter": "python",
   "pygments_lexer": "ipython3",
   "version": "3.7.4"
  }
 },
 "nbformat": 4,
 "nbformat_minor": 2
}
